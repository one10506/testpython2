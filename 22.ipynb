{
 "cells": [
  {
   "cell_type": "code",
   "execution_count": 2,
   "metadata": {
    "collapsed": false
   },
   "outputs": [
    {
     "data": {
      "text/plain": [
       "{'一般飲料店': {'五十嵐': ['全台都有的飲料店，味道OK']},\n",
       " '不喝飲料': {},\n",
       " '撞奶': {'墾丁撞奶': ['風味OK'], '巴柏珍奶': ['風味不錯但珍珠有點多'], '陳三鼎': ['有點太甜了']},\n",
       " '鮮奶': {'迷客夏': ['鮮奶好喝但有點貴，麥茶加珍珠超棒']}}"
      ]
     },
     "execution_count": 2,
     "metadata": {},
     "output_type": "execute_result"
    }
   ],
   "source": [
    "GK = {\"撞奶\":{\n",
    "        \"墾丁撞奶\":[\"風味OK\"],\n",
    "        \"陳三鼎\":[\"有點太甜了\"],\n",
    "        \"巴柏珍奶\":[\"風味不錯但珍珠有點多\"]\n",
    "        },\n",
    "      \"鮮奶\":{\n",
    "        \"迷客夏\":[\"鮮奶好喝但有點貴，麥茶加珍珠超棒\"]\n",
    "        },\n",
    "      \"一般飲料店\":{\n",
    "        \"五十嵐\":[\"全台都有的飲料店，味道OK\"]\n",
    "        },\n",
    "      \"不喝飲料\":{}\n",
    "     } \n",
    "GK      "
   ]
  },
  {
   "cell_type": "code",
   "execution_count": 3,
   "metadata": {
    "collapsed": false
   },
   "outputs": [
    {
     "name": "stdout",
     "output_type": "stream",
     "text": [
      "{'迷客夏': ['鮮奶好喝但有點貴，麥茶加珍珠超棒']}\n"
     ]
    }
   ],
   "source": [
    "print(GK[\"鮮奶\"])"
   ]
  },
  {
   "cell_type": "code",
   "execution_count": 4,
   "metadata": {
    "collapsed": false
   },
   "outputs": [
    {
     "name": "stdout",
     "output_type": "stream",
     "text": [
      "['風味OK']\n"
     ]
    }
   ],
   "source": [
    "print(GK[\"撞奶\"][\"墾丁撞奶\"])"
   ]
  },
  {
   "cell_type": "code",
   "execution_count": null,
   "metadata": {
    "collapsed": true
   },
   "outputs": [],
   "source": []
  }
 ],
 "metadata": {
  "kernelspec": {
   "display_name": "Python 3",
   "language": "python",
   "name": "python3"
  },
  "language_info": {
   "codemirror_mode": {
    "name": "ipython",
    "version": 3
   },
   "file_extension": ".py",
   "mimetype": "text/x-python",
   "name": "python",
   "nbconvert_exporter": "python",
   "pygments_lexer": "ipython3",
   "version": "3.4.3"
  }
 },
 "nbformat": 4,
 "nbformat_minor": 0
}
